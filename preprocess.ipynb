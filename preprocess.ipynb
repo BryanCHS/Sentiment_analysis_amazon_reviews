{
 "cells": [
  {
   "cell_type": "code",
   "execution_count": 4,
   "id": "e1a8a351-4f8f-4776-9708-6ae123d5961e",
   "metadata": {},
   "outputs": [],
   "source": [
    "import pyspark\n",
    "from pyspark.sql import SparkSession\n",
    "import numpy as np\n"
   ]
  },
  {
   "cell_type": "markdown",
   "id": "4024e1a2-9853-4dcc-8bfa-42d46ceab75a",
   "metadata": {},
   "source": [
    "# Preprocessing "
   ]
  },
  {
   "cell_type": "code",
   "execution_count": 5,
   "id": "8b124d5d-ed8c-4179-919b-32a06fc71cfa",
   "metadata": {},
   "outputs": [
    {
     "name": "stderr",
     "output_type": "stream",
     "text": [
      "24/04/08 11:19:14 WARN Utils: Your hostname, Bryan resolves to a loopback address: 127.0.1.1; using 172.20.218.41 instead (on interface eth0)\n",
      "24/04/08 11:19:14 WARN Utils: Set SPARK_LOCAL_IP if you need to bind to another address\n",
      "Setting default log level to \"WARN\".\n",
      "To adjust logging level use sc.setLogLevel(newLevel). For SparkR, use setLogLevel(newLevel).\n",
      "24/04/08 11:19:17 WARN NativeCodeLoader: Unable to load native-hadoop library for your platform... using builtin-java classes where applicable\n"
     ]
    }
   ],
   "source": [
    "#create py_spark context\n",
    "spark = SparkSession.builder.appName(\"Amazon Reviews\").\\\n",
    "config(\"spark.memory.offHeap.enabled\",\"true\").\\\n",
    "config(\"spark.memory.offHeap.size\",\"10g\").\\\n",
    "getOrCreate()"
   ]
  },
  {
   "cell_type": "code",
   "execution_count": 16,
   "id": "db1b0c15-587d-4ac1-8f7e-890c97968127",
   "metadata": {},
   "outputs": [],
   "source": [
    "#import data\n",
    "df = spark.read.csv('data/amazon_reviews.csv', header = True)"
   ]
  },
  {
   "cell_type": "code",
   "execution_count": 17,
   "id": "b2fdef05-3fb6-4ef5-8ded-2048972f4563",
   "metadata": {},
   "outputs": [
    {
     "name": "stdout",
     "output_type": "stream",
     "text": [
      "+---+------------+-------+----------------------------------------------------------------------------------------------------------------------------------------------------------------------------------------------------------------------------------------------------------------------------------------------------------------------------------------------------+----------+--------+-----------+----------+----------+------------------+--------------------+------------------+\n",
      "|_c0|reviewerName|overall|reviewText                                                                                                                                                                                                                                                                                                                                          |reviewTime|day_diff|helpful_yes|helpful_no|total_vote|score_pos_neg_diff|score_average_rating|wilson_lower_bound|\n",
      "+---+------------+-------+----------------------------------------------------------------------------------------------------------------------------------------------------------------------------------------------------------------------------------------------------------------------------------------------------------------------------------------------------+----------+--------+-----------+----------+----------+------------------+--------------------+------------------+\n",
      "|0  |NULL        |4.0    |No issues.                                                                                                                                                                                                                                                                                                                                          |2014-07-23|138     |0          |0         |0         |0                 |0.0                 |0.0               |\n",
      "|1  |0mie        |5.0    |Purchased this for my device, it worked as advertised. You can never have too much phone memory, since I download a lot of stuff this was a no brainer for me.                                                                                                                                                                                      |2013-10-25|409     |0          |0         |0         |0                 |0.0                 |0.0               |\n",
      "|2  |1K3         |4.0    |it works as expected. I should have sprung for the higher capacity.  I think its made a bit cheesier than the earlier versions; the paint looks not as clean as before                                                                                                                                                                              |2012-12-23|715     |0          |0         |0         |0                 |0.0                 |0.0               |\n",
      "|3  |1m2         |5.0    |This think has worked out great.Had a diff. bran 64gb card and if went south after 3 months.This one has held up pretty well since I had my S3, now on my Note3.*** update 3/21/14I've had this for a few months and have had ZERO issue's since it was transferred from my S3 to my Note3 and into a note2. This card is reliable and solid!Cheers!|2013-11-21|382     |0          |0         |0         |0                 |0.0                 |0.0               |\n",
      "|4  |2&amp;1/2Men|5.0    |Bought it with Retail Packaging, arrived legit, in a orange envelope, english version not asian like the picture shows. arrived quickly, bought a 32 and 16 both retail packaging for my htc one sv and Lg Optimus, both cards in working order, probably best price you'll get for a nice sd card                                                  |2013-07-13|513     |0          |0         |0         |0                 |0.0                 |0.0               |\n",
      "+---+------------+-------+----------------------------------------------------------------------------------------------------------------------------------------------------------------------------------------------------------------------------------------------------------------------------------------------------------------------------------------------------+----------+--------+-----------+----------+----------+------------------+--------------------+------------------+\n",
      "only showing top 5 rows\n",
      "\n"
     ]
    },
    {
     "name": "stderr",
     "output_type": "stream",
     "text": [
      "24/04/08 11:35:05 WARN CSVHeaderChecker: CSV header does not conform to the schema.\n",
      " Header: , reviewerName, overall, reviewText, reviewTime, day_diff, helpful_yes, helpful_no, total_vote, score_pos_neg_diff, score_average_rating, wilson_lower_bound\n",
      " Schema: _c0, reviewerName, overall, reviewText, reviewTime, day_diff, helpful_yes, helpful_no, total_vote, score_pos_neg_diff, score_average_rating, wilson_lower_bound\n",
      "Expected: _c0 but found: \n",
      "CSV file: file:///home/bryanhurtado/projects/Sentiment_analysis_amazon_reviews/data/amazon_reviews.csv\n"
     ]
    }
   ],
   "source": [
    "df.show(5,0)"
   ]
  },
  {
   "cell_type": "code",
   "execution_count": 18,
   "id": "599681be-bbff-4d52-9bda-9f72e0834536",
   "metadata": {},
   "outputs": [
    {
     "data": {
      "text/plain": [
       "4915"
      ]
     },
     "execution_count": 18,
     "metadata": {},
     "output_type": "execute_result"
    }
   ],
   "source": [
    "#count the total of information\n",
    "df.count()"
   ]
  },
  {
   "cell_type": "code",
   "execution_count": 20,
   "id": "8e5c5167-6638-4bac-99c4-c01300ceb2d2",
   "metadata": {},
   "outputs": [
    {
     "data": {
      "text/plain": [
       "['_c0',\n",
       " 'reviewerName',\n",
       " 'overall',\n",
       " 'reviewText',\n",
       " 'reviewTime',\n",
       " 'day_diff',\n",
       " 'helpful_yes',\n",
       " 'helpful_no',\n",
       " 'total_vote',\n",
       " 'score_pos_neg_diff',\n",
       " 'score_average_rating',\n",
       " 'wilson_lower_bound']"
      ]
     },
     "execution_count": 20,
     "metadata": {},
     "output_type": "execute_result"
    }
   ],
   "source": [
    "#review columns and types\n",
    "df.columns"
   ]
  },
  {
   "cell_type": "code",
   "execution_count": 21,
   "id": "92f9afd4-a69a-41b8-8438-e905a6c8310e",
   "metadata": {},
   "outputs": [
    {
     "data": {
      "text/plain": [
       "12"
      ]
     },
     "execution_count": 21,
     "metadata": {},
     "output_type": "execute_result"
    }
   ],
   "source": [
    "len(df.columns)"
   ]
  },
  {
   "cell_type": "code",
   "execution_count": 22,
   "id": "ab82c51c-99f7-47de-b0dc-ee415076ad37",
   "metadata": {},
   "outputs": [
    {
     "data": {
      "text/plain": [
       "[('_c0', 'string'),\n",
       " ('reviewerName', 'string'),\n",
       " ('overall', 'string'),\n",
       " ('reviewText', 'string'),\n",
       " ('reviewTime', 'string'),\n",
       " ('day_diff', 'string'),\n",
       " ('helpful_yes', 'string'),\n",
       " ('helpful_no', 'string'),\n",
       " ('total_vote', 'string'),\n",
       " ('score_pos_neg_diff', 'string'),\n",
       " ('score_average_rating', 'string'),\n",
       " ('wilson_lower_bound', 'string')]"
      ]
     },
     "execution_count": 22,
     "metadata": {},
     "output_type": "execute_result"
    }
   ],
   "source": [
    "df.dtypes"
   ]
  },
  {
   "cell_type": "code",
   "execution_count": null,
   "id": "f8efc7f2-ba24-42e9-bcf1-da446792e45c",
   "metadata": {},
   "outputs": [],
   "source": [
    "#delete columns which are not neccesary\n",
    "columns_to_drop = [\"\",\"\"]\n",
    "df = df.drop(*columns_to_drop)"
   ]
  },
  {
   "cell_type": "markdown",
   "id": "5bb690db-affb-4bf3-91bb-623c23ae85b0",
   "metadata": {},
   "source": [
    "## Review scores"
   ]
  },
  {
   "cell_type": "code",
   "execution_count": null,
   "id": "e368dad1-6122-4912-ae44-c7f634f1f884",
   "metadata": {},
   "outputs": [],
   "source": []
  },
  {
   "cell_type": "code",
   "execution_count": null,
   "id": "1b7bfc75-d24d-4dad-b45e-add76486f5ca",
   "metadata": {},
   "outputs": [],
   "source": []
  },
  {
   "cell_type": "markdown",
   "id": "45b797d4-3c7e-4c3e-b939-78e6f6295882",
   "metadata": {},
   "source": [
    "## Review Texts"
   ]
  },
  {
   "cell_type": "code",
   "execution_count": null,
   "id": "92d94f86-d9cb-4a85-84b5-28ffc46979a4",
   "metadata": {},
   "outputs": [],
   "source": []
  }
 ],
 "metadata": {
  "kernelspec": {
   "display_name": "Python 3 (ipykernel)",
   "language": "python",
   "name": "python3"
  },
  "language_info": {
   "codemirror_mode": {
    "name": "ipython",
    "version": 3
   },
   "file_extension": ".py",
   "mimetype": "text/x-python",
   "name": "python",
   "nbconvert_exporter": "python",
   "pygments_lexer": "ipython3",
   "version": "3.10.12"
  }
 },
 "nbformat": 4,
 "nbformat_minor": 5
}
