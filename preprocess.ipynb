{
 "cells": [
  {
   "cell_type": "code",
   "execution_count": 6,
   "id": "e1a8a351-4f8f-4776-9708-6ae123d5961e",
   "metadata": {},
   "outputs": [],
   "source": [
    "import pyspark\n",
    "from pyspark.sql import SparkSession\n",
    "from pyspark.sql.functions import *\n",
    "from pyspark.sql.types import *\n",
    "\n",
    "import numpy as np\n",
    "import pandas as pd\n"
   ]
  },
  {
   "cell_type": "markdown",
   "id": "4024e1a2-9853-4dcc-8bfa-42d46ceab75a",
   "metadata": {},
   "source": [
    "# Preprocessing "
   ]
  },
  {
   "cell_type": "code",
   "execution_count": 7,
   "id": "8b124d5d-ed8c-4179-919b-32a06fc71cfa",
   "metadata": {},
   "outputs": [
    {
     "name": "stderr",
     "output_type": "stream",
     "text": [
      "24/04/19 11:02:35 WARN Utils: Your hostname, Bryan resolves to a loopback address: 127.0.1.1; using 172.20.218.41 instead (on interface eth0)\n",
      "24/04/19 11:02:35 WARN Utils: Set SPARK_LOCAL_IP if you need to bind to another address\n",
      "Setting default log level to \"WARN\".\n",
      "To adjust logging level use sc.setLogLevel(newLevel). For SparkR, use setLogLevel(newLevel).\n",
      "24/04/19 11:02:38 WARN NativeCodeLoader: Unable to load native-hadoop library for your platform... using builtin-java classes where applicable\n"
     ]
    }
   ],
   "source": [
    "#create py_spark context\n",
    "spark = SparkSession.builder.appName(\"Amazon Reviews\").\\\n",
    "config(\"spark.memory.offHeap.enabled\",\"true\").\\\n",
    "config(\"spark.memory.offHeap.size\",\"10g\").\\\n",
    "getOrCreate()"
   ]
  },
  {
   "cell_type": "code",
   "execution_count": 8,
   "id": "db1b0c15-587d-4ac1-8f7e-890c97968127",
   "metadata": {},
   "outputs": [
    {
     "name": "stderr",
     "output_type": "stream",
     "text": [
      "                                                                                \r"
     ]
    }
   ],
   "source": [
    "#import data\n",
    "df = spark.read.csv('data/amazon_reviews.csv', header = True)"
   ]
  },
  {
   "cell_type": "code",
   "execution_count": 9,
   "id": "b2fdef05-3fb6-4ef5-8ded-2048972f4563",
   "metadata": {},
   "outputs": [
    {
     "name": "stdout",
     "output_type": "stream",
     "text": [
      "+---+------------+-------+----------------------------------------------------------------------------------------------------------------------------------------------------------------------------------------------------------------------------------------------------------------------------------------------------------------------------------------------------+----------+--------+-----------+----------+----------+------------------+--------------------+------------------+\n",
      "|_c0|reviewerName|overall|reviewText                                                                                                                                                                                                                                                                                                                                          |reviewTime|day_diff|helpful_yes|helpful_no|total_vote|score_pos_neg_diff|score_average_rating|wilson_lower_bound|\n",
      "+---+------------+-------+----------------------------------------------------------------------------------------------------------------------------------------------------------------------------------------------------------------------------------------------------------------------------------------------------------------------------------------------------+----------+--------+-----------+----------+----------+------------------+--------------------+------------------+\n",
      "|0  |NULL        |4.0    |No issues.                                                                                                                                                                                                                                                                                                                                          |2014-07-23|138     |0          |0         |0         |0                 |0.0                 |0.0               |\n",
      "|1  |0mie        |5.0    |Purchased this for my device, it worked as advertised. You can never have too much phone memory, since I download a lot of stuff this was a no brainer for me.                                                                                                                                                                                      |2013-10-25|409     |0          |0         |0         |0                 |0.0                 |0.0               |\n",
      "|2  |1K3         |4.0    |it works as expected. I should have sprung for the higher capacity.  I think its made a bit cheesier than the earlier versions; the paint looks not as clean as before                                                                                                                                                                              |2012-12-23|715     |0          |0         |0         |0                 |0.0                 |0.0               |\n",
      "|3  |1m2         |5.0    |This think has worked out great.Had a diff. bran 64gb card and if went south after 3 months.This one has held up pretty well since I had my S3, now on my Note3.*** update 3/21/14I've had this for a few months and have had ZERO issue's since it was transferred from my S3 to my Note3 and into a note2. This card is reliable and solid!Cheers!|2013-11-21|382     |0          |0         |0         |0                 |0.0                 |0.0               |\n",
      "|4  |2&amp;1/2Men|5.0    |Bought it with Retail Packaging, arrived legit, in a orange envelope, english version not asian like the picture shows. arrived quickly, bought a 32 and 16 both retail packaging for my htc one sv and Lg Optimus, both cards in working order, probably best price you'll get for a nice sd card                                                  |2013-07-13|513     |0          |0         |0         |0                 |0.0                 |0.0               |\n",
      "+---+------------+-------+----------------------------------------------------------------------------------------------------------------------------------------------------------------------------------------------------------------------------------------------------------------------------------------------------------------------------------------------------+----------+--------+-----------+----------+----------+------------------+--------------------+------------------+\n",
      "only showing top 5 rows\n",
      "\n"
     ]
    },
    {
     "name": "stderr",
     "output_type": "stream",
     "text": [
      "24/04/19 11:02:53 WARN CSVHeaderChecker: CSV header does not conform to the schema.\n",
      " Header: , reviewerName, overall, reviewText, reviewTime, day_diff, helpful_yes, helpful_no, total_vote, score_pos_neg_diff, score_average_rating, wilson_lower_bound\n",
      " Schema: _c0, reviewerName, overall, reviewText, reviewTime, day_diff, helpful_yes, helpful_no, total_vote, score_pos_neg_diff, score_average_rating, wilson_lower_bound\n",
      "Expected: _c0 but found: \n",
      "CSV file: file:///home/bryanhurtado/projects/Sentiment_analysis_amazon_reviews/data/amazon_reviews.csv\n"
     ]
    }
   ],
   "source": [
    "df.show(5,0)"
   ]
  },
  {
   "cell_type": "code",
   "execution_count": 10,
   "id": "599681be-bbff-4d52-9bda-9f72e0834536",
   "metadata": {},
   "outputs": [
    {
     "data": {
      "text/plain": [
       "4915"
      ]
     },
     "execution_count": 10,
     "metadata": {},
     "output_type": "execute_result"
    }
   ],
   "source": [
    "#count the total of information\n",
    "df.count()"
   ]
  },
  {
   "cell_type": "code",
   "execution_count": 11,
   "id": "8e5c5167-6638-4bac-99c4-c01300ceb2d2",
   "metadata": {},
   "outputs": [
    {
     "data": {
      "text/plain": [
       "['_c0',\n",
       " 'reviewerName',\n",
       " 'overall',\n",
       " 'reviewText',\n",
       " 'reviewTime',\n",
       " 'day_diff',\n",
       " 'helpful_yes',\n",
       " 'helpful_no',\n",
       " 'total_vote',\n",
       " 'score_pos_neg_diff',\n",
       " 'score_average_rating',\n",
       " 'wilson_lower_bound']"
      ]
     },
     "execution_count": 11,
     "metadata": {},
     "output_type": "execute_result"
    }
   ],
   "source": [
    "#review columns and types\n",
    "df.columns"
   ]
  },
  {
   "cell_type": "code",
   "execution_count": 12,
   "id": "92f9afd4-a69a-41b8-8438-e905a6c8310e",
   "metadata": {},
   "outputs": [
    {
     "data": {
      "text/plain": [
       "12"
      ]
     },
     "execution_count": 12,
     "metadata": {},
     "output_type": "execute_result"
    }
   ],
   "source": [
    "len(df.columns)"
   ]
  },
  {
   "cell_type": "code",
   "execution_count": 13,
   "id": "ab82c51c-99f7-47de-b0dc-ee415076ad37",
   "metadata": {},
   "outputs": [
    {
     "data": {
      "text/plain": [
       "[('_c0', 'string'),\n",
       " ('reviewerName', 'string'),\n",
       " ('overall', 'string'),\n",
       " ('reviewText', 'string'),\n",
       " ('reviewTime', 'string'),\n",
       " ('day_diff', 'string'),\n",
       " ('helpful_yes', 'string'),\n",
       " ('helpful_no', 'string'),\n",
       " ('total_vote', 'string'),\n",
       " ('score_pos_neg_diff', 'string'),\n",
       " ('score_average_rating', 'string'),\n",
       " ('wilson_lower_bound', 'string')]"
      ]
     },
     "execution_count": 13,
     "metadata": {},
     "output_type": "execute_result"
    }
   ],
   "source": [
    "df.dtypes"
   ]
  },
  {
   "cell_type": "code",
   "execution_count": 14,
   "id": "f8efc7f2-ba24-42e9-bcf1-da446792e45c",
   "metadata": {},
   "outputs": [],
   "source": [
    "#delete columns which are not neccesary\n",
    "columns_to_drop = [\"_c0\",\"reviewerName\",\"reviewTime\",\"day_diff\",\n",
    "                   \"helpful_yes\",\"helpful_no\",\"total_vote\",\n",
    "                   \"score_pos_neg_diff\",\"score_average_rating\",\n",
    "                  \"wilson_lower_bound\"]\n",
    "df = df.drop(*columns_to_drop)"
   ]
  },
  {
   "cell_type": "code",
   "execution_count": 15,
   "id": "66410532-e8fe-4297-9d1f-e4cd9d03e30a",
   "metadata": {},
   "outputs": [
    {
     "name": "stdout",
     "output_type": "stream",
     "text": [
      "+-------+----------------------------------------------------------------------------------------------------------------------------------------------------------------------------------------------------------------------------------------------------------------------------------------------------------------------------------------------------+\n",
      "|overall|reviewText                                                                                                                                                                                                                                                                                                                                          |\n",
      "+-------+----------------------------------------------------------------------------------------------------------------------------------------------------------------------------------------------------------------------------------------------------------------------------------------------------------------------------------------------------+\n",
      "|4.0    |No issues.                                                                                                                                                                                                                                                                                                                                          |\n",
      "|5.0    |Purchased this for my device, it worked as advertised. You can never have too much phone memory, since I download a lot of stuff this was a no brainer for me.                                                                                                                                                                                      |\n",
      "|4.0    |it works as expected. I should have sprung for the higher capacity.  I think its made a bit cheesier than the earlier versions; the paint looks not as clean as before                                                                                                                                                                              |\n",
      "|5.0    |This think has worked out great.Had a diff. bran 64gb card and if went south after 3 months.This one has held up pretty well since I had my S3, now on my Note3.*** update 3/21/14I've had this for a few months and have had ZERO issue's since it was transferred from my S3 to my Note3 and into a note2. This card is reliable and solid!Cheers!|\n",
      "|5.0    |Bought it with Retail Packaging, arrived legit, in a orange envelope, english version not asian like the picture shows. arrived quickly, bought a 32 and 16 both retail packaging for my htc one sv and Lg Optimus, both cards in working order, probably best price you'll get for a nice sd card                                                  |\n",
      "+-------+----------------------------------------------------------------------------------------------------------------------------------------------------------------------------------------------------------------------------------------------------------------------------------------------------------------------------------------------------+\n",
      "only showing top 5 rows\n",
      "\n"
     ]
    }
   ],
   "source": [
    "df.show(5,0)"
   ]
  },
  {
   "cell_type": "markdown",
   "id": "5bb690db-affb-4bf3-91bb-623c23ae85b0",
   "metadata": {},
   "source": [
    "## Review scores"
   ]
  },
  {
   "cell_type": "code",
   "execution_count": 16,
   "id": "e368dad1-6122-4912-ae44-c7f634f1f884",
   "metadata": {},
   "outputs": [
    {
     "name": "stdout",
     "output_type": "stream",
     "text": [
      "+--------------------+-----------------+\n",
      "|             overall|count(reviewText)|\n",
      "+--------------------+-----------------+\n",
      "|                 1.0|              244|\n",
      "|          Luthier\"\"\"|                1|\n",
      "|         Cut Once\"\"\"|                1|\n",
      "|             Kate\"\"\"|                1|\n",
      "| as you have been...|                1|\n",
      "|                 5.0|             3906|\n",
      "|        newer car\"\"\"|                1|\n",
      "|           Author\"\"\"|                1|\n",
      "|                 4.0|              526|\n",
      "|but love books......|                1|\n",
      "| No Longer the On...|                1|\n",
      "|          Realtor\"\"\"|                1|\n",
      "|          we hav...\"|                1|\n",
      "|                 2.0|               80|\n",
      "|                   \"|                1|\n",
      "|  shopaholic at ...\"|                1|\n",
      "|               MD\"\"\"|                1|\n",
      "|              me?\"\"\"|                1|\n",
      "|                K\"\"\"|                1|\n",
      "|                 3.0|              142|\n",
      "+--------------------+-----------------+\n",
      "only showing top 20 rows\n",
      "\n"
     ]
    }
   ],
   "source": [
    "#group by scores\n",
    "df.groupby(\"overall\").agg(count(\"reviewText\")).show()"
   ]
  },
  {
   "cell_type": "code",
   "execution_count": 17,
   "id": "872e0125-7a6e-4536-b558-ed8be9eba709",
   "metadata": {},
   "outputs": [],
   "source": [
    "#delete the ones with mistakes on the overall column\n",
    "df = df.filter(col(\"overall\").isin([1.0,2.0,3.0,4.0,5.0]))"
   ]
  },
  {
   "cell_type": "code",
   "execution_count": 18,
   "id": "1b7bfc75-d24d-4dad-b45e-add76486f5ca",
   "metadata": {},
   "outputs": [
    {
     "name": "stdout",
     "output_type": "stream",
     "text": [
      "+-------+----------------------------------------------------------------------------------------------------------------------------------------------------------------------------------------------------------------------------------------------------------------------------------------------------------------------------------------------------+\n",
      "|overall|reviewText                                                                                                                                                                                                                                                                                                                                          |\n",
      "+-------+----------------------------------------------------------------------------------------------------------------------------------------------------------------------------------------------------------------------------------------------------------------------------------------------------------------------------------------------------+\n",
      "|4.0    |No issues.                                                                                                                                                                                                                                                                                                                                          |\n",
      "|5.0    |Purchased this for my device, it worked as advertised. You can never have too much phone memory, since I download a lot of stuff this was a no brainer for me.                                                                                                                                                                                      |\n",
      "|4.0    |it works as expected. I should have sprung for the higher capacity.  I think its made a bit cheesier than the earlier versions; the paint looks not as clean as before                                                                                                                                                                              |\n",
      "|5.0    |This think has worked out great.Had a diff. bran 64gb card and if went south after 3 months.This one has held up pretty well since I had my S3, now on my Note3.*** update 3/21/14I've had this for a few months and have had ZERO issue's since it was transferred from my S3 to my Note3 and into a note2. This card is reliable and solid!Cheers!|\n",
      "|5.0    |Bought it with Retail Packaging, arrived legit, in a orange envelope, english version not asian like the picture shows. arrived quickly, bought a 32 and 16 both retail packaging for my htc one sv and Lg Optimus, both cards in working order, probably best price you'll get for a nice sd card                                                  |\n",
      "+-------+----------------------------------------------------------------------------------------------------------------------------------------------------------------------------------------------------------------------------------------------------------------------------------------------------------------------------------------------------+\n",
      "only showing top 5 rows\n",
      "\n"
     ]
    }
   ],
   "source": [
    "df.show(5,0)"
   ]
  },
  {
   "cell_type": "code",
   "execution_count": 19,
   "id": "5bdd3147-2f7e-44cc-b7a0-ab10684d08e0",
   "metadata": {},
   "outputs": [
    {
     "name": "stdout",
     "output_type": "stream",
     "text": [
      "+-------+-----------------+\n",
      "|overall|count(reviewText)|\n",
      "+-------+-----------------+\n",
      "|    1.0|              244|\n",
      "|    5.0|             3906|\n",
      "|    4.0|              526|\n",
      "|    2.0|               80|\n",
      "|    3.0|              142|\n",
      "+-------+-----------------+\n",
      "\n"
     ]
    }
   ],
   "source": [
    "df.groupby(\"overall\").agg(count(\"reviewText\")).show()"
   ]
  },
  {
   "cell_type": "markdown",
   "id": "45b797d4-3c7e-4c3e-b939-78e6f6295882",
   "metadata": {},
   "source": [
    "## Review Texts"
   ]
  },
  {
   "cell_type": "code",
   "execution_count": 20,
   "id": "92d94f86-d9cb-4a85-84b5-28ffc46979a4",
   "metadata": {},
   "outputs": [
    {
     "name": "stdout",
     "output_type": "stream",
     "text": [
      "+-------+--------------------------------------------------------------------------------------------------------------------------------------------------------------+\n",
      "|overall|reviewText                                                                                                                                                    |\n",
      "+-------+--------------------------------------------------------------------------------------------------------------------------------------------------------------+\n",
      "|4.0    |No issues.                                                                                                                                                    |\n",
      "|5.0    |Purchased this for my device, it worked as advertised. You can never have too much phone memory, since I download a lot of stuff this was a no brainer for me.|\n",
      "+-------+--------------------------------------------------------------------------------------------------------------------------------------------------------------+\n",
      "only showing top 2 rows\n",
      "\n"
     ]
    }
   ],
   "source": [
    "#examples\n",
    "df.show(2,0)"
   ]
  },
  {
   "cell_type": "markdown",
   "id": "f3af86c6-65e9-467d-95b1-8795cd121432",
   "metadata": {},
   "source": [
    "## Save Dataset for training"
   ]
  },
  {
   "cell_type": "code",
   "execution_count": 21,
   "id": "91571949-ba8f-49a6-bc0a-d416500b17a2",
   "metadata": {},
   "outputs": [],
   "source": [
    "df = df.toPandas()"
   ]
  },
  {
   "cell_type": "code",
   "execution_count": 22,
   "id": "c5ca4c25-530b-40b3-9288-a63140e143b4",
   "metadata": {},
   "outputs": [
    {
     "data": {
      "text/html": [
       "<div>\n",
       "<style scoped>\n",
       "    .dataframe tbody tr th:only-of-type {\n",
       "        vertical-align: middle;\n",
       "    }\n",
       "\n",
       "    .dataframe tbody tr th {\n",
       "        vertical-align: top;\n",
       "    }\n",
       "\n",
       "    .dataframe thead th {\n",
       "        text-align: right;\n",
       "    }\n",
       "</style>\n",
       "<table border=\"1\" class=\"dataframe\">\n",
       "  <thead>\n",
       "    <tr style=\"text-align: right;\">\n",
       "      <th></th>\n",
       "      <th>overall</th>\n",
       "      <th>reviewText</th>\n",
       "    </tr>\n",
       "  </thead>\n",
       "  <tbody>\n",
       "    <tr>\n",
       "      <th>0</th>\n",
       "      <td>4.0</td>\n",
       "      <td>No issues.</td>\n",
       "    </tr>\n",
       "    <tr>\n",
       "      <th>1</th>\n",
       "      <td>5.0</td>\n",
       "      <td>Purchased this for my device, it worked as adv...</td>\n",
       "    </tr>\n",
       "    <tr>\n",
       "      <th>2</th>\n",
       "      <td>4.0</td>\n",
       "      <td>it works as expected. I should have sprung for...</td>\n",
       "    </tr>\n",
       "    <tr>\n",
       "      <th>3</th>\n",
       "      <td>5.0</td>\n",
       "      <td>This think has worked out great.Had a diff. br...</td>\n",
       "    </tr>\n",
       "    <tr>\n",
       "      <th>4</th>\n",
       "      <td>5.0</td>\n",
       "      <td>Bought it with Retail Packaging, arrived legit...</td>\n",
       "    </tr>\n",
       "  </tbody>\n",
       "</table>\n",
       "</div>"
      ],
      "text/plain": [
       "  overall                                         reviewText\n",
       "0     4.0                                         No issues.\n",
       "1     5.0  Purchased this for my device, it worked as adv...\n",
       "2     4.0  it works as expected. I should have sprung for...\n",
       "3     5.0  This think has worked out great.Had a diff. br...\n",
       "4     5.0  Bought it with Retail Packaging, arrived legit..."
      ]
     },
     "execution_count": 22,
     "metadata": {},
     "output_type": "execute_result"
    }
   ],
   "source": [
    "df.head(5)"
   ]
  },
  {
   "cell_type": "code",
   "execution_count": 26,
   "id": "26a8619a-c715-4adf-ab34-c2d4c3f77e91",
   "metadata": {},
   "outputs": [
    {
     "data": {
      "text/plain": [
       "overall  reviewText\n",
       "False    False         4898\n",
       "         True             1\n",
       "Name: count, dtype: int64"
      ]
     },
     "execution_count": 26,
     "metadata": {},
     "output_type": "execute_result"
    }
   ],
   "source": [
    "df.isnull().value_counts()"
   ]
  },
  {
   "cell_type": "code",
   "execution_count": 28,
   "id": "e2cb3b33-ef1f-4530-9137-c43650e968ad",
   "metadata": {},
   "outputs": [],
   "source": [
    "df = df.dropna()"
   ]
  },
  {
   "cell_type": "code",
   "execution_count": 29,
   "id": "fb318992-3412-4114-a15b-d4349e0c9777",
   "metadata": {},
   "outputs": [
    {
     "data": {
      "text/plain": [
       "overall  reviewText\n",
       "False    False         4898\n",
       "Name: count, dtype: int64"
      ]
     },
     "execution_count": 29,
     "metadata": {},
     "output_type": "execute_result"
    }
   ],
   "source": [
    "df.isnull().value_counts()"
   ]
  },
  {
   "cell_type": "code",
   "execution_count": 30,
   "id": "aab5b2e1-14ce-47f3-9036-91acbf9f1434",
   "metadata": {},
   "outputs": [],
   "source": [
    "df.to_csv('ml_data/amazon_ml.csv', index=False)  "
   ]
  },
  {
   "cell_type": "code",
   "execution_count": null,
   "id": "385827a8-783c-4ccc-9297-9eb981add4ec",
   "metadata": {},
   "outputs": [],
   "source": []
  }
 ],
 "metadata": {
  "kernelspec": {
   "display_name": "Python 3 (ipykernel)",
   "language": "python",
   "name": "python3"
  },
  "language_info": {
   "codemirror_mode": {
    "name": "ipython",
    "version": 3
   },
   "file_extension": ".py",
   "mimetype": "text/x-python",
   "name": "python",
   "nbconvert_exporter": "python",
   "pygments_lexer": "ipython3",
   "version": "3.10.12"
  }
 },
 "nbformat": 4,
 "nbformat_minor": 5
}
