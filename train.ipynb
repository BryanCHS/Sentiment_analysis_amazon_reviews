{
 "cells": [
  {
   "cell_type": "code",
   "execution_count": 40,
   "id": "59a83158-f9d6-442b-bca1-a1b9df296ef9",
   "metadata": {},
   "outputs": [],
   "source": [
    "# libraries\n",
    "import numpy as np\n",
    "\n",
    "import pyspark\n",
    "from pyspark.sql import SparkSession\n",
    "import pyspark.sql.functions as F\n",
    "from pyspark.sql.functions import col\n",
    "\n",
    "from pyspark.ml.feature import HashingTF,IDF, Tokenizer,StopWordsRemover\n",
    "from pyspark.ml.feature import VectorAssembler\n",
    "from pyspark.ml.classification import LogisticRegression\n",
    "from pyspark.ml import Pipeline\n",
    "\n",
    "import mlflow"
   ]
  },
  {
   "cell_type": "code",
   "execution_count": 2,
   "id": "ff8569c4-1eb7-40a2-a7d4-db7a8b39644f",
   "metadata": {},
   "outputs": [
    {
     "name": "stderr",
     "output_type": "stream",
     "text": [
      "24/04/22 09:41:33 WARN Utils: Your hostname, Bryan resolves to a loopback address: 127.0.1.1; using 172.20.218.41 instead (on interface eth0)\n",
      "24/04/22 09:41:33 WARN Utils: Set SPARK_LOCAL_IP if you need to bind to another address\n",
      "Setting default log level to \"WARN\".\n",
      "To adjust logging level use sc.setLogLevel(newLevel). For SparkR, use setLogLevel(newLevel).\n",
      "24/04/22 09:41:35 WARN NativeCodeLoader: Unable to load native-hadoop library for your platform... using builtin-java classes where applicable\n"
     ]
    }
   ],
   "source": [
    "#create_pyspark_session\n",
    "spark = SparkSession.builder.appName(\"amazon_training\").\\\n",
    "config(\"spark.memory.offHeap.enabled\",\"true\").\\\n",
    "config(\"spark.memory.offHeap.size\",\"10g\").\\\n",
    "getOrCreate()"
   ]
  },
  {
   "cell_type": "code",
   "execution_count": 3,
   "id": "b1d0415e-2726-4bdc-bb7c-4afac405383c",
   "metadata": {},
   "outputs": [],
   "source": [
    "#load data preprocesses\n",
    "df = spark.read.csv('ml_data/amazon_ml.csv', header = True)"
   ]
  },
  {
   "cell_type": "code",
   "execution_count": 4,
   "id": "ff29d812-3bdc-42f3-a2e6-fc71f59c2f43",
   "metadata": {},
   "outputs": [
    {
     "name": "stdout",
     "output_type": "stream",
     "text": [
      "+-------+--------------------------------------------------------------------------------------------------------------------------------------------------------------+\n",
      "|overall|reviewText                                                                                                                                                    |\n",
      "+-------+--------------------------------------------------------------------------------------------------------------------------------------------------------------+\n",
      "|4.0    |No issues.                                                                                                                                                    |\n",
      "|5.0    |Purchased this for my device, it worked as advertised. You can never have too much phone memory, since I download a lot of stuff this was a no brainer for me.|\n",
      "+-------+--------------------------------------------------------------------------------------------------------------------------------------------------------------+\n",
      "only showing top 2 rows\n",
      "\n"
     ]
    }
   ],
   "source": [
    "df.show(2,0)"
   ]
  },
  {
   "cell_type": "markdown",
   "id": "8eff6daa-7a04-4513-a075-5abb3e074466",
   "metadata": {},
   "source": [
    "## balance dataset"
   ]
  },
  {
   "cell_type": "code",
   "execution_count": 10,
   "id": "2b549b0d-53b7-426a-a9f8-fd5d4cd12e50",
   "metadata": {},
   "outputs": [
    {
     "name": "stdout",
     "output_type": "stream",
     "text": [
      "+-------+-----+\n",
      "|overall|count|\n",
      "+-------+-----+\n",
      "|    1.0|  244|\n",
      "|    5.0| 3906|\n",
      "|    4.0|  526|\n",
      "|    2.0|   80|\n",
      "|    3.0|  142|\n",
      "+-------+-----+\n",
      "\n"
     ]
    }
   ],
   "source": [
    "#class count\n",
    "class_counts = df.groupBy('overall').count()\n",
    "class_counts.show()"
   ]
  },
  {
   "cell_type": "code",
   "execution_count": 14,
   "id": "e35a0ee1-b389-4cb7-a37a-483d038a0c41",
   "metadata": {},
   "outputs": [
    {
     "name": "stdout",
     "output_type": "stream",
     "text": [
      "+---------+\n",
      "|min_value|\n",
      "+---------+\n",
      "|       80|\n",
      "+---------+\n",
      "\n"
     ]
    }
   ],
   "source": [
    "#min class\n",
    "min_class = class_counts.agg(F.min('count').alias('min_value'))\n",
    "min_class.show()"
   ]
  },
  {
   "cell_type": "code",
   "execution_count": 27,
   "id": "260c9ada-9caf-4e4c-b918-230f91513603",
   "metadata": {},
   "outputs": [],
   "source": [
    "min_class = min_class.collect()[0][0]"
   ]
  },
  {
   "cell_type": "code",
   "execution_count": 21,
   "id": "86de2432-09e1-4ceb-82c6-ec6b859fa8ac",
   "metadata": {},
   "outputs": [
    {
     "name": "stdout",
     "output_type": "stream",
     "text": [
      "+-------+--------------------+\n",
      "|overall|          reviewText|\n",
      "+-------+--------------------+\n",
      "|    4.0|          No issues.|\n",
      "|    4.0|it works as expec...|\n",
      "|    3.0|It works, but fil...|\n",
      "|    1.0|I bought 2 of tho...|\n",
      "|    4.0|The memory card i...|\n",
      "|    1.0|I bougth this mic...|\n",
      "|    1.0|\"\"\"Ordered this f...|\n",
      "|    4.0|more like 8mb/s i...|\n",
      "|    2.0|I used this for a...|\n",
      "|    4.0|everything about ...|\n",
      "|    4.0|Used in my phone ...|\n",
      "|    3.0|This card adverti...|\n",
      "|    4.0|I bought this SD ...|\n",
      "|    4.0|good card. work a...|\n",
      "|    4.0|I got this becaus...|\n",
      "|    4.0|I got this memory...|\n",
      "|    4.0|I bought two of t...|\n",
      "|    2.0|\"\"\"It works but t...|\n",
      "|    4.0|SanDisk Ultra 32 ...|\n",
      "|    3.0|Does it's job and...|\n",
      "+-------+--------------------+\n",
      "only showing top 20 rows\n",
      "\n"
     ]
    }
   ],
   "source": [
    "undersampled_df = df.filter(col(\"overall\") != 5.0)  \n",
    "undersampled_df.show()"
   ]
  },
  {
   "cell_type": "code",
   "execution_count": 22,
   "id": "e1d75471-7382-4c40-a018-94c41e74da8c",
   "metadata": {},
   "outputs": [
    {
     "name": "stdout",
     "output_type": "stream",
     "text": [
      "+-------+--------------------+\n",
      "|overall|          reviewText|\n",
      "+-------+--------------------+\n",
      "|    5.0|Purchased this fo...|\n",
      "|    5.0|This think has wo...|\n",
      "|    5.0|Bought it with Re...|\n",
      "|    5.0|It's mini storage...|\n",
      "|    5.0|I have it in my p...|\n",
      "|    5.0|It's hard to beli...|\n",
      "|    5.0|Works in a HTC Re...|\n",
      "|    5.0|in my galaxy s4, ...|\n",
      "|    5.0|I like this SD Ca...|\n",
      "|    5.0|THE NAME OF ITSEL...|\n",
      "|    5.0|Solid SDHC card t...|\n",
      "|    5.0|Heard that the ca...|\n",
      "|    5.0|I bought this to ...|\n",
      "|    5.0|got this because ...|\n",
      "|    5.0|Class 10 Speed Ra...|\n",
      "|    5.0|The read and writ...|\n",
      "|    5.0|This works with t...|\n",
      "|    5.0|Works as expected...|\n",
      "|    5.0|Works great in a ...|\n",
      "|    5.0|SanDisk never dis...|\n",
      "+-------+--------------------+\n",
      "only showing top 20 rows\n",
      "\n"
     ]
    }
   ],
   "source": [
    "majority_class_df = df.filter(col(\"overall\") == 5.0)  \n",
    "majority_class_df.show()"
   ]
  },
  {
   "cell_type": "code",
   "execution_count": 28,
   "id": "cf1961e2-9643-48a9-9f1d-176237450fe1",
   "metadata": {},
   "outputs": [],
   "source": [
    "undersample_majority_class_df = majority_class_df.sample(False, min_class/majority_class_df.count())"
   ]
  },
  {
   "cell_type": "code",
   "execution_count": 31,
   "id": "c33c91b3-a44b-4826-8b3e-e3c361d87a4c",
   "metadata": {},
   "outputs": [
    {
     "data": {
      "text/plain": [
       "83"
      ]
     },
     "execution_count": 31,
     "metadata": {},
     "output_type": "execute_result"
    }
   ],
   "source": [
    "undersample_majority_class_df.count()"
   ]
  },
  {
   "cell_type": "code",
   "execution_count": 33,
   "id": "7a66658f-9ce6-4851-bca4-95bc4afb1f1c",
   "metadata": {},
   "outputs": [],
   "source": [
    "balanced_df = undersampled_df.union(undersample_majority_class_df)"
   ]
  },
  {
   "cell_type": "code",
   "execution_count": 34,
   "id": "8d9d1474-0245-43f6-b8e6-633508b40f7a",
   "metadata": {},
   "outputs": [
    {
     "data": {
      "text/plain": [
       "1075"
      ]
     },
     "execution_count": 34,
     "metadata": {},
     "output_type": "execute_result"
    }
   ],
   "source": [
    "balanced_df.count()"
   ]
  },
  {
   "cell_type": "code",
   "execution_count": 36,
   "id": "195d03ea-3cc4-4ecb-83c8-72bb653fe251",
   "metadata": {},
   "outputs": [
    {
     "name": "stdout",
     "output_type": "stream",
     "text": [
      "+-------+-----+\n",
      "|overall|count|\n",
      "+-------+-----+\n",
      "|    1.0|  244|\n",
      "|    4.0|  526|\n",
      "|    2.0|   80|\n",
      "|    3.0|  142|\n",
      "|    5.0|   83|\n",
      "+-------+-----+\n",
      "\n"
     ]
    }
   ],
   "source": [
    "df = balanced_df\n",
    "df.groupBy('overall').count().show()"
   ]
  },
  {
   "cell_type": "markdown",
   "id": "dfb04899-62ec-4f8c-a587-b62229be0b60",
   "metadata": {},
   "source": [
    "## tf - idf"
   ]
  },
  {
   "cell_type": "code",
   "execution_count": 37,
   "id": "bacf80a0-ce99-4b98-b77f-f70ed73ac5c6",
   "metadata": {},
   "outputs": [],
   "source": [
    "#tokenizer the review\n",
    "tokenizer = Tokenizer(inputCol = \"reviewText\", outputCol = \"review_words\")\n",
    "wordsDF = tokenizer.transform(df)"
   ]
  },
  {
   "cell_type": "code",
   "execution_count": 38,
   "id": "23baec84-57df-47f7-a9b5-0036e4e29bba",
   "metadata": {},
   "outputs": [
    {
     "name": "stdout",
     "output_type": "stream",
     "text": [
      "+-------+--------------------+--------------------+\n",
      "|overall|          reviewText|        review_words|\n",
      "+-------+--------------------+--------------------+\n",
      "|    4.0|          No issues.|       [no, issues.]|\n",
      "|    4.0|it works as expec...|[it, works, as, e...|\n",
      "|    3.0|It works, but fil...|[it, works,, but,...|\n",
      "|    1.0|I bought 2 of tho...|[i, bought, 2, of...|\n",
      "|    4.0|The memory card i...|[the, memory, car...|\n",
      "|    1.0|I bougth this mic...|[i, bougth, this,...|\n",
      "|    1.0|\"\"\"Ordered this f...|[\"\"\"ordered, this...|\n",
      "|    4.0|more like 8mb/s i...|[more, like, 8mb/...|\n",
      "|    2.0|I used this for a...|[i, used, this, f...|\n",
      "|    4.0|everything about ...|[everything, abou...|\n",
      "|    4.0|Used in my phone ...|[used, in, my, ph...|\n",
      "|    3.0|This card adverti...|[this, card, adve...|\n",
      "|    4.0|I bought this SD ...|[i, bought, this,...|\n",
      "|    4.0|good card. work a...|[good, card., wor...|\n",
      "|    4.0|I got this becaus...|[i, got, this, be...|\n",
      "|    4.0|I got this memory...|[i, got, this, me...|\n",
      "|    4.0|I bought two of t...|[i, bought, two, ...|\n",
      "|    2.0|\"\"\"It works but t...|[\"\"\"it, works, bu...|\n",
      "|    4.0|SanDisk Ultra 32 ...|[sandisk, ultra, ...|\n",
      "|    3.0|Does it's job and...|[does, it's, job,...|\n",
      "+-------+--------------------+--------------------+\n",
      "only showing top 20 rows\n",
      "\n"
     ]
    }
   ],
   "source": [
    "wordsDF.show()"
   ]
  },
  {
   "cell_type": "code",
   "execution_count": 42,
   "id": "92db6f1d-6b42-40e5-9aea-2a2ed4ad4cb0",
   "metadata": {},
   "outputs": [],
   "source": [
    "#remove stop words\n",
    "remover = StopWordsRemover(inputCol = 'review_words', outputCol = 'filtered')\n",
    "wordsDF2 = remover.transform(wordsDF)"
   ]
  },
  {
   "cell_type": "code",
   "execution_count": 43,
   "id": "0895591a-0e83-4e7c-91d9-9e19dfb106ba",
   "metadata": {},
   "outputs": [
    {
     "name": "stdout",
     "output_type": "stream",
     "text": [
      "+-------+--------------------+--------------------+--------------------+\n",
      "|overall|          reviewText|        review_words|            filtered|\n",
      "+-------+--------------------+--------------------+--------------------+\n",
      "|    4.0|          No issues.|       [no, issues.]|           [issues.]|\n",
      "|    4.0|it works as expec...|[it, works, as, e...|[works, expected....|\n",
      "|    3.0|It works, but fil...|[it, works,, but,...|[works,, file, wr...|\n",
      "|    1.0|I bought 2 of tho...|[i, bought, 2, of...|[bought, 2, sandi...|\n",
      "|    4.0|The memory card i...|[the, memory, car...|[memory, card, ex...|\n",
      "|    1.0|I bougth this mic...|[i, bougth, this,...|[bougth, micro, s...|\n",
      "|    1.0|\"\"\"Ordered this f...|[\"\"\"ordered, this...|[\"\"\"ordered, gala...|\n",
      "|    4.0|more like 8mb/s i...|[more, like, 8mb/...|[like, 8mb/s, not...|\n",
      "|    2.0|I used this for a...|[i, used, this, f...|[used, months, ph...|\n",
      "|    4.0|everything about ...|[everything, abou...|[everything, grea...|\n",
      "|    4.0|Used in my phone ...|[used, in, my, ph...|[used, phone, ple...|\n",
      "|    3.0|This card adverti...|[this, card, adve...|[card, advertises...|\n",
      "|    4.0|I bought this SD ...|[i, bought, this,...|[bought, sd, card...|\n",
      "|    4.0|good card. work a...|[good, card., wor...|[good, card., wor...|\n",
      "|    4.0|I got this becaus...|[i, got, this, be...|[got, pass, deal,...|\n",
      "|    4.0|I got this memory...|[i, got, this, me...|[got, memory, car...|\n",
      "|    4.0|I bought two of t...|[i, bought, two, ...|[bought, two, one...|\n",
      "|    2.0|\"\"\"It works but t...|[\"\"\"it, works, bu...|[\"\"\"it, works, ac...|\n",
      "|    4.0|SanDisk Ultra 32 ...|[sandisk, ultra, ...|[sandisk, ultra, ...|\n",
      "|    3.0|Does it's job and...|[does, it's, job,...|[job, fairly, che...|\n",
      "+-------+--------------------+--------------------+--------------------+\n",
      "only showing top 20 rows\n",
      "\n"
     ]
    }
   ],
   "source": [
    "wordsDF2.show()"
   ]
  },
  {
   "cell_type": "code",
   "execution_count": null,
   "id": "64eb30b8-7be1-49d8-8250-ea1af374990e",
   "metadata": {},
   "outputs": [],
   "source": [
    "# convert to tf vector\n",
    "hashingTF = "
   ]
  },
  {
   "cell_type": "code",
   "execution_count": null,
   "id": "21b42a1a-3310-450f-ac4d-71bb9cbd971c",
   "metadata": {},
   "outputs": [],
   "source": [
    "#create a pipeline for the data"
   ]
  },
  {
   "cell_type": "code",
   "execution_count": null,
   "id": "1f50f718-ea20-4356-a1cd-78ad709c72f7",
   "metadata": {},
   "outputs": [],
   "source": [
    "#model hyperparamenters -mlflow"
   ]
  },
  {
   "cell_type": "code",
   "execution_count": null,
   "id": "44754d0a-65db-4a09-8634-e098ec9b47f7",
   "metadata": {},
   "outputs": [],
   "source": [
    "#select the best one"
   ]
  },
  {
   "cell_type": "code",
   "execution_count": null,
   "id": "a2f5efc1-38ea-4d6f-857e-d0e8aa41cc05",
   "metadata": {},
   "outputs": [],
   "source": [
    "# save the best one"
   ]
  }
 ],
 "metadata": {
  "kernelspec": {
   "display_name": "Python 3 (ipykernel)",
   "language": "python",
   "name": "python3"
  },
  "language_info": {
   "codemirror_mode": {
    "name": "ipython",
    "version": 3
   },
   "file_extension": ".py",
   "mimetype": "text/x-python",
   "name": "python",
   "nbconvert_exporter": "python",
   "pygments_lexer": "ipython3",
   "version": "3.10.12"
  }
 },
 "nbformat": 4,
 "nbformat_minor": 5
}
