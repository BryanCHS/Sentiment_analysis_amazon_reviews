{
 "cells": [
  {
   "cell_type": "code",
   "execution_count": 2,
   "id": "59a83158-f9d6-442b-bca1-a1b9df296ef9",
   "metadata": {},
   "outputs": [],
   "source": [
    "# libraries\n",
    "import numpy as np"
   ]
  },
  {
   "cell_type": "code",
   "execution_count": null,
   "id": "b1d0415e-2726-4bdc-bb7c-4afac405383c",
   "metadata": {},
   "outputs": [],
   "source": [
    "#load data preprocesses"
   ]
  },
  {
   "cell_type": "code",
   "execution_count": null,
   "id": "959d4bdb-c78d-492e-b8d7-57bdb12de35a",
   "metadata": {},
   "outputs": [],
   "source": [
    "#tf - idf"
   ]
  },
  {
   "cell_type": "code",
   "execution_count": null,
   "id": "21b42a1a-3310-450f-ac4d-71bb9cbd971c",
   "metadata": {},
   "outputs": [],
   "source": [
    "#create a pipeline for the data"
   ]
  },
  {
   "cell_type": "code",
   "execution_count": null,
   "id": "1f50f718-ea20-4356-a1cd-78ad709c72f7",
   "metadata": {},
   "outputs": [],
   "source": [
    "#mode hyperparamenters"
   ]
  }
 ],
 "metadata": {
  "kernelspec": {
   "display_name": "Python 3 (ipykernel)",
   "language": "python",
   "name": "python3"
  },
  "language_info": {
   "codemirror_mode": {
    "name": "ipython",
    "version": 3
   },
   "file_extension": ".py",
   "mimetype": "text/x-python",
   "name": "python",
   "nbconvert_exporter": "python",
   "pygments_lexer": "ipython3",
   "version": "3.10.12"
  }
 },
 "nbformat": 4,
 "nbformat_minor": 5
}
